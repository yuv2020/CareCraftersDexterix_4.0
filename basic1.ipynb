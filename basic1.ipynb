{
  "nbformat": 4,
  "nbformat_minor": 0,
  "metadata": {
    "colab": {
      "provenance": [],
      "authorship_tag": "ABX9TyOGTfkKaK1apiwmlG1Ne90E",
      "include_colab_link": true
    },
    "kernelspec": {
      "name": "python3",
      "display_name": "Python 3"
    },
    "language_info": {
      "name": "python"
    }
  },
  "cells": [
    {
      "cell_type": "markdown",
      "metadata": {
        "id": "view-in-github",
        "colab_type": "text"
      },
      "source": [
        "<a href=\"https://colab.research.google.com/github/yuv2020/CareCraftersDexterix_4.0/blob/main/basic1.ipynb\" target=\"_parent\"><img src=\"https://colab.research.google.com/assets/colab-badge.svg\" alt=\"Open In Colab\"/></a>"
      ]
    },
    {
      "cell_type": "code",
      "execution_count": 4,
      "metadata": {
        "colab": {
          "base_uri": "https://localhost:8080/"
        },
        "id": "iv6eldhaxAOt",
        "outputId": "359d2330-7d5b-496b-8848-57c596bc5ab4"
      },
      "outputs": [
        {
          "output_type": "stream",
          "name": "stdout",
          "text": [
            "enter marks of maths subject : 89\n",
            "enter marks of english subject : 87\n",
            "enter marks of physics subject : 90\n",
            "enter marks of chemistry subject : 100\n",
            "enter marks of Art subject : 76\n",
            "Sum of marks is :  442.0\n",
            "Percentage is :  176.8\n",
            "You got A grade\n"
          ]
        }
      ],
      "source": [
        "math=float(input('enter marks of maths subject : '))\n",
        "english=float(input('enter marks of english subject : '))\n",
        "physics=float(input('enter marks of physics subject : '))\n",
        "chemistry=float(input('enter marks of chemistry subject : '))\n",
        "Art=float(input('enter marks of Art subject : '))\n",
        "\n",
        "sum=(math+english+physics+chemistry+Art)\n",
        "\n",
        "print('Sum of marks is : ',sum)\n",
        "\n",
        "percentage=(sum/250)*100\n",
        "\n",
        "print('Percentage is : ',percentage)\n",
        "\n",
        "if(percentage<40):\n",
        "  print('You are fail')\n",
        "\n",
        "elif(40<percentage<60):\n",
        "  print('You got C grade')\n",
        "\n",
        "elif(60<percentage<80):\n",
        "  print('You got B grade')\n",
        "\n",
        "elif(percentage>=80):\n",
        "  print('You got A grade')\n",
        "\n",
        "else:\n",
        "  print('Default')"
      ]
    }
  ]
}